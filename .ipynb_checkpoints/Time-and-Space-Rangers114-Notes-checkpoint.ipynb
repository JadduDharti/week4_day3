{
 "cells": [
  {
   "cell_type": "markdown",
   "metadata": {},
   "source": [
    "# Time/Space Complexity - Intro to Data Structures (User Defined)\n",
    "\n",
    "### Topics to discuss today:\n",
    "\n",
    "<ul>\n",
    "    <li>Time and Space Complexity - What is it/How do we measure it</li>\n",
    "    <li>Asymptotic Analysis</li>\n",
    "    <li><strong>Data Structures</strong></li>\n",
    "    <li>Some of the popular sorting algorithms</li>\n",
    "</ul>\n",
    "\n",
    "### Data Structures to discuss:\n",
    "- Arrays\n",
    "- Stacks\n",
    "- Queues\n",
    "- Linked Lists\n",
    "    - Singly Linked Lists\n",
    "    - Traversing A Linked List\n",
    "    - Finding a node in a linked list\n",
    "    - Adding to a linked list\n"
   ]
  },
  {
   "cell_type": "markdown",
   "metadata": {},
   "source": [
    "## Time and Space Complexity\n",
    "\n",
    "#### What is it?\n",
    "\n",
    "Time and space complexity is the measure of how much time a given action(function) will take to solve a problem. In the same fashion, we determine how much a given data structure will need in terms of memory allocation. A problem can have multiple solutions and finding the optimal solution for the problem needs to be analyzed in time and space.\n",
    "\n",
    "#### How do we measure Time and Space Complexity?\n",
    "\n",
    "In order to measure time and space complexity we use Asymptotic analysis. The reason for this is because we need a way to measure different algorithms (functions) based on the size of their inputs in a mathmatical way. For example, we could have a function that is computed as f(n) and another that is g(n^2). All things around the function staying constant, the only thing that changes is the size of the input. Below is the chart that shows the different Asymptotic analysis formats. "
   ]
  },
  {
   "cell_type": "markdown",
   "metadata": {},
   "source": [
    "<table style=\"text-align:center;\" class=\"table table-bordered\">\n",
    "<tbody><tr>\n",
    "<td>constant</td>\n",
    "<td>−</td>\n",
    "<td>Ο(1)</td>\n",
    "</tr>\n",
    "<tr>\n",
    "<td>logarithmic</td>\n",
    "<td>−</td>\n",
    "<td>Ο(log n)</td>\n",
    "</tr>\n",
    "<tr>\n",
    "<td>linear</td>\n",
    "<td>−</td>\n",
    "<td>Ο(n)</td>\n",
    "</tr>\n",
    "<tr>\n",
    "<td>Linear Logarithmic</td>\n",
    "<td>−</td>\n",
    "<td>Ο(n log n)</td>\n",
    "</tr>\n",
    "<tr>\n",
    "<td>quadratic</td>\n",
    "<td>−</td>\n",
    "<td>Ο(n<sup>2</sup>)</td>\n",
    "</tr>\n",
    "<tr>\n",
    "<td>cubic</td>\n",
    "<td>−</td>\n",
    "<td>Ο(n<sup>3</sup>)</td>\n",
    "</tr>\n",
    "<tr>\n",
    "<td>polynomial</td>\n",
    "<td>−</td>\n",
    "<td>n<sup>Ο(1)</sup></td>\n",
    "</tr>\n",
    "<tr>\n",
    "<td>exponential</td>\n",
    "<td>−</td>\n",
    "<td>2<sup>Ο(n)</sup></td>\n",
    "</tr>\n",
    "</tbody></table>"
   ]
  },
  {
   "cell_type": "code",
   "execution_count": 9,
   "metadata": {},
   "outputs": [
    {
     "name": "stdout",
     "output_type": "stream",
     "text": [
      "True\n"
     ]
    }
   ],
   "source": [
    "#constant time o(1)\n",
    "\n",
    "def add_nums(n1, n2):\n",
    "    return n1 + n2\n",
    "\n",
    "#O(log n)\n",
    "#Binary Search\n",
    "def binarySearch(arr, target, l, r):\n",
    "    while l <- r:\n",
    "        mid = (l + r) // 2\n",
    "        pm = arr[mid]\n",
    "        \n",
    "        if target == pm:\n",
    "            return f\"The index is ... {mid}\"\n",
    "        elif target < pm:\n",
    "            r = mid -1\n",
    "        else:\n",
    "            l = mid + 1\n",
    "    return -1\n",
    "\n",
    "\n",
    "#O(n)\n",
    "#time increase with the number of inputs\n",
    "\n",
    "arr = [1, 2, 3, 4, 5]\n",
    "def primeNum(arr):\n",
    "    for num in arr:\n",
    "        print(num)\n",
    "        \n",
    "        \n",
    "# .count()\n",
    "# .index()\n",
    "# max() specially with iterable\n",
    "# min() specially with iterable\n",
    "# sum() on an iterable\n",
    "\n",
    "# Linear Logarthimic O(n log n)\n",
    "# Merge Sort\n",
    "# .sort()\n",
    "# sorted()\n",
    "\n",
    "#Quadrstic (n^2)\n",
    "# any nested linear operations will be quadratic:\n",
    "# 2 loops nested inside each other\n",
    "#luckey number..\n",
    "\n",
    "arr = [1, 2, 2, 3, 3, 3, 4]\n",
    "def luckeyNum(arr):\n",
    "    count_arr = []\n",
    "    for num in arr:\n",
    "        if num == arr.count(num):\n",
    "            count_arr.append(num)\n",
    "    return count_arr\n",
    "\n",
    "def number(arr):\n",
    "    for i in arr:\n",
    "        if i*2 in arr:\n",
    "            return True\n",
    "    else:\n",
    "        return False\n",
    "print(number(arr))\n",
    "\n",
    "\n",
    "def printNums2(arr1, arr2):\n",
    "    for num in arr1:\n",
    "        for num2 in arr2:\n",
    "            print(num + num2)\n",
    "            \n",
    "            \n",
    "#cub O(n^3)\n",
    "#any triply nested liner operations\n",
    "#for loops in for loops\n",
    "#while loops in for loops\n",
    "#several methods in linear built in methods\n",
    "\n",
    "def printNums3(arr1, arr2, arr3):\n",
    "    for num1 in arr1:\n",
    "        for num2 in arr2:\n",
    "            for num3 in arr3:\n",
    "                print(num1 + num2 + num3)\n",
    "                \n",
    "\n",
    "\n",
    "                "
   ]
  },
  {
   "cell_type": "markdown",
   "metadata": {},
   "source": [
    "## Arrays"
   ]
  },
  {
   "cell_type": "markdown",
   "metadata": {},
   "source": [
    "In python we benefit from the dynamic array which means the block of memory will expand as needed for the given input to the array. In traditional arrays (depending on the type of operating system) we will usually store our inputs in 4 or 8 consecutive blocks of memory. Below is a diagram of how that looks under the hood:\n",
    "\n",
    "<img src=\"array_data_structure.png\" style=\"height:250px; width:350px;\">"
   ]
  },
  {
   "cell_type": "markdown",
   "metadata": {},
   "source": [
    "## Which in python looks like this:"
   ]
  },
  {
   "cell_type": "code",
   "execution_count": 12,
   "metadata": {},
   "outputs": [
    {
     "name": "stdout",
     "output_type": "stream",
     "text": [
      "Its here\n",
      "[1, 2, 3, 4, 5]\n",
      "[1, 2, 3, 7, 5]\n"
     ]
    }
   ],
   "source": [
    "# Indexing an Array (list)\n",
    "# Constant Time and Space\n",
    "# arr[i]\n",
    "my_list = [1,2,3,4,5]\n",
    "my_num = my_list[3]\n",
    "\n",
    "#searching through an array\n",
    "#Linear Time O(n) and constant space O(1)\n",
    "\n",
    "if 5 in my_list:\n",
    "    print(\"Its here\")\n",
    "else:\n",
    "    print(\"OHhh!!! NO!!\")\n",
    "    \n",
    "    \n",
    "#Linear Time O(n) Linear space O(n)\n",
    "\n",
    "my_copy_list = my_list[:]\n",
    "print(my_copy_list)\n",
    "empty_list = []\n",
    "\n",
    "for num in my_list:\n",
    "    empty_list.append(num)\n",
    "    \n",
    "    \n",
    "#setting an index\n",
    "#Constant time O(1) and constant space O(1)\n",
    "\n",
    "my_list[3] = 7\n",
    "print(my_list)"
   ]
  },
  {
   "cell_type": "markdown",
   "metadata": {},
   "source": [
    "### Let's take a look at some of the time and space analysis of arrays"
   ]
  },
  {
   "cell_type": "code",
   "execution_count": null,
   "metadata": {},
   "outputs": [],
   "source": [
    "# ^^ above ^^"
   ]
  },
  {
   "cell_type": "markdown",
   "metadata": {},
   "source": [
    "## Stacks and Queues\n",
    "\n",
    "** Stacks ** as the name suggests is a data structure that allows for data to follow the Last In First Out priciple(LIFO). Think of a stack of pancakes for example. To get the first pancake you would  start with the top and go down.\n",
    "\n",
    "##### Searching through a stack will be Linear Time O(n) - Constant Space O(1)\n",
    "##### Selecting the last item will be done in Constant Time O(1) - Constant Space O(1)\n",
    "##### Adding to the stack should take Constant Time O(1) - Constant Space O(1)\n",
    "\n",
    "** Queues ** are similar but in this case follow the First In First Out principle(FIFO). Think of this as a line in a black friday sale. The first person camped out for the big screen tv is the first to get it.\n",
    "\n",
    "##### Searching through a queue will be Linear Time O(n) - Constant Space O(1)\n",
    "##### Selecting the first item will be done in Constant Time O(1) - Constant Space O(1)\n",
    "##### Adding to the queue should take Constant Time O(1) - Constant Space O(1)"
   ]
  },
  {
   "cell_type": "code",
   "execution_count": 15,
   "metadata": {},
   "outputs": [
    {
     "name": "stdout",
     "output_type": "stream",
     "text": [
      "['Pancake']\n",
      "['Pancake', 'Pancake2']\n",
      "['Pancake', 'Pancake2', 'Pancake3']\n",
      "['Pancake', 'Pancake2', 'Pancake3', 'Pancake4']\n",
      "['Pancake', 'Pancake2', 'Pancake3', 'Pancake4', 'Pancake5']\n",
      "\n",
      "Popping Pancake5\n",
      "['Pancake', 'Pancake2', 'Pancake3', 'Pancake4']\n",
      "\n",
      "Popping Pancake4\n",
      "['Pancake', 'Pancake2', 'Pancake3']\n",
      "\n",
      "Popping Pancake3\n",
      "['Pancake', 'Pancake2']\n"
     ]
    }
   ],
   "source": [
    "#stack\n",
    "\n",
    "stack = ['Pancake']\n",
    "print(stack)\n",
    "stack.append('Pancake2')\n",
    "print(stack)\n",
    "stack.append('Pancake3')\n",
    "print(stack)\n",
    "stack.append('Pancake4')\n",
    "print(stack)\n",
    "stack.append('Pancake5')\n",
    "print(stack)\n",
    "\n",
    "print(\"\\nPopping\", stack.pop())\n",
    "print(stack)\n",
    "print(\"\\nPopping\",stack.pop())\n",
    "print(stack)\n",
    "print(\"\\nPopping\",stack.pop())\n",
    "print(stack)"
   ]
  },
  {
   "cell_type": "code",
   "execution_count": 16,
   "metadata": {},
   "outputs": [
    {
     "name": "stdout",
     "output_type": "stream",
     "text": [
      "['Shopper']\n",
      "['Shopper', 'Shopper2']\n",
      "['Shopper', 'Shopper2', 'Shopper3']\n",
      "['Shopper', 'Shopper2', 'Shopper3', 'Shopper4']\n",
      "['Shopper', 'Shopper2', 'Shopper3', 'Shopper4', 'Shopper5']\n",
      "Popped:  Shopper\n",
      "['Shopper2', 'Shopper3', 'Shopper4', 'Shopper5']\n",
      "Popped:  Shopper2\n",
      "['Shopper3', 'Shopper4', 'Shopper5']\n",
      "Popped:  Shopper3\n",
      "['Shopper4', 'Shopper5']\n"
     ]
    }
   ],
   "source": [
    "#Queue\n",
    "\n",
    "queue = [\"Shopper\"]\n",
    "print(queue)\n",
    "queue.append(\"Shopper2\")\n",
    "print(queue)\n",
    "queue.append(\"Shopper3\")\n",
    "print(queue)\n",
    "queue.append(\"Shopper4\")\n",
    "print(queue)\n",
    "queue.append(\"Shopper5\")\n",
    "print(queue)\n",
    "\n",
    "print(\"Popped: \", queue.pop(0))\n",
    "print(queue)\n",
    "print(\"Popped: \", queue.pop(0))\n",
    "print(queue)\n",
    "print(\"Popped: \", queue.pop(0))\n",
    "print(queue)"
   ]
  },
  {
   "cell_type": "code",
   "execution_count": 17,
   "metadata": {
    "scrolled": true
   },
   "outputs": [
    {
     "name": "stdout",
     "output_type": "stream",
     "text": [
      "deque([])\n",
      "deque(['pancake1'])\n",
      "deque(['pancake2', 'pancake1'])\n",
      "deque(['pancake3', 'pancake2', 'pancake1'])\n",
      "pancake3\n",
      "deque(['pancake2', 'pancake1'])\n",
      "pancake2\n",
      "deque(['pancake1'])\n"
     ]
    }
   ],
   "source": [
    "from collections import deque\n",
    "\n",
    "#stack (FILO)\n",
    "stack = deque()\n",
    "print(stack)\n",
    "\n",
    "stack.appendleft(\"pancake1\")\n",
    "print(stack)\n",
    "stack.appendleft(\"pancake2\")\n",
    "print(stack)\n",
    "stack.appendleft(\"pancake3\")\n",
    "print(stack)\n",
    "\n",
    "print(stack.popleft())\n",
    "print(stack)\n",
    "print(stack.popleft())\n",
    "print(stack)"
   ]
  },
  {
   "cell_type": "code",
   "execution_count": 19,
   "metadata": {},
   "outputs": [
    {
     "name": "stdout",
     "output_type": "stream",
     "text": [
      "deque(['shopper'])\n",
      "deque(['shopper2', 'shopper'])\n",
      "deque(['shopper3', 'shopper2', 'shopper'])\n",
      "deque(['shopper4', 'shopper3', 'shopper2', 'shopper'])\n",
      "shopper\n",
      "deque(['shopper4', 'shopper3', 'shopper2'])\n",
      "shopper2\n",
      "deque(['shopper4', 'shopper3'])\n",
      "deque(['shopper5', 'shopper4', 'shopper3'])\n",
      "deque(['shopper6', 'shopper5', 'shopper4', 'shopper3'])\n"
     ]
    }
   ],
   "source": [
    "from collections import deque\n",
    "#Queue\n",
    "# first shopper in, first shopper out\n",
    "queue = deque()\n",
    "# dir(queue)\n",
    "queue.appendleft(\"shopper\")\n",
    "print(queue)\n",
    "queue.appendleft(\"shopper2\")\n",
    "print(queue)\n",
    "queue.appendleft(\"shopper3\")\n",
    "print(queue)\n",
    "queue.appendleft(\"shopper4\")\n",
    "print(queue)\n",
    "\n",
    "print(queue.pop())\n",
    "print(queue)\n",
    "print(queue.pop())\n",
    "print(queue)\n",
    "queue.appendleft(\"shopper5\")\n",
    "print(queue)\n",
    "queue.appendleft(\"shopper6\")\n",
    "print(queue)"
   ]
  },
  {
   "cell_type": "markdown",
   "metadata": {},
   "source": [
    "# Sum of Parts Time Compelxity Exercise"
   ]
  },
  {
   "cell_type": "code",
   "execution_count": 25,
   "metadata": {},
   "outputs": [
    {
     "name": "stdout",
     "output_type": "stream",
     "text": [
      "[20, 20, 19, 16, 10, 0]\n"
     ]
    }
   ],
   "source": [
    "#sum of parts\n",
    "#https://www.codewars.com/kata/5ce399e0047a45001c853c2b\n",
    "    \n",
    "def parts_sums(ls):\n",
    "    top = sum(ls)\n",
    "    sums = 0\n",
    "    parts = []\n",
    "    for i in range(len(ls)):\n",
    "        if len(parts) == 0:\n",
    "            parts.append(top)\n",
    "        else:\n",
    "            parts.append(top - sums)\n",
    "        sums += ls[i]\n",
    "    parts.append(0)\n",
    "    return parts\n",
    "\n",
    "print(parts_sums([0, 1, 3, 6, 10]))"
   ]
  },
  {
   "cell_type": "code",
   "execution_count": 23,
   "metadata": {},
   "outputs": [
    {
     "name": "stdout",
     "output_type": "stream",
     "text": [
      "[20, 20, 19, 16, 10, 0]\n"
     ]
    }
   ],
   "source": [
    "def sum_parts(arr):\n",
    "    \n",
    "    result = [sum(arr)]\n",
    "    for num in arr:\n",
    "        result.append(result[-1]- num)\n",
    "        \n",
    "    return result\n",
    "\n",
    "print(sum_parts([0, 1, 3, 6, 10]))"
   ]
  },
  {
   "cell_type": "markdown",
   "metadata": {},
   "source": [
    "## Linked List (Data Structure)\n",
    "\n",
    "A linked list is created by using the node class. We create a Node object and create another class to use this node object. We pass the appropriate values thorugh the node object to point the to the next data elements.\n",
    "\n",
    "There are some advantages and disadvantages with this data structure. **Advantages** Linked Lists can save memory because they can be flexibile with memory management which saves memory. **Disadvantages** Finding or adding to the list requires traversing the entire list."
   ]
  },
  {
   "cell_type": "code",
   "execution_count": 27,
   "metadata": {},
   "outputs": [],
   "source": [
    "# A complete implementation of a linked list\n",
    "\n",
    "# 2 components to the structure\n",
    "# Node class\n",
    "# Linked list class\n",
    "# node class"
   ]
  },
  {
   "cell_type": "code",
   "execution_count": 36,
   "metadata": {},
   "outputs": [
    {
     "ename": "IndentationError",
     "evalue": "unindent does not match any outer indentation level (<tokenize>, line 37)",
     "output_type": "error",
     "traceback": [
      "\u001b[1;36m  File \u001b[1;32m<tokenize>:37\u001b[1;36m\u001b[0m\n\u001b[1;33m    def remove_node(self, r_value):\u001b[0m\n\u001b[1;37m    ^\u001b[0m\n\u001b[1;31mIndentationError\u001b[0m\u001b[1;31m:\u001b[0m unindent does not match any outer indentation level\n"
     ]
    }
   ],
   "source": [
    "#Node Class\n",
    "\n",
    "class Node():\n",
    "    def __init__(self, value):\n",
    "        self.value = value\n",
    "        self.next = None\n",
    "        \n",
    "        \n",
    "#Linked List class\n",
    "\n",
    "class LinkedList():\n",
    "    def __init__(self):\n",
    "        self.head = None\n",
    "        \n",
    "    #pushOn - place item at the head of the list -- the beginning\n",
    "    def pushOn(self, new_value):\n",
    "        new_node = Node(new_value)\n",
    "        new_node.next = self.head\n",
    "        self.head = new_node\n",
    "        \n",
    "    #insertAfter - place a node after another in the linked list\n",
    "    def insertAfter(self, prev_node, new_value):\n",
    "        #check if the previous node exists\n",
    "        if prev_node is None:\n",
    "            print(\"The given node must not be empty\")\n",
    "            return\n",
    "        #if the prev_node is not empty, we create a new node\n",
    "        new_node = Node(new_value)\n",
    "        \n",
    "        #update the new node's next pointer to point to the prev_node's next\n",
    "        new_node.next = prev_node.next\n",
    "        \n",
    "        #update the new node's next to new_node\n",
    "        prev_node.next = new_node\n",
    "     \n",
    "        \n",
    "        \n",
    "    #append(add) a new node to the END of the Linked list\n",
    "    def append_(self, new_value):\n",
    "        #create our new node\n",
    "        new_node = Node(new_value)\n",
    "        \n",
    "        #check if the linked list is empty\n",
    "        #if it is, make this new node the head node(beginning of the list)\n",
    "        if self.head is None:\n",
    "            self.head = new_node\n",
    "            \n",
    "        #if not empty, traverse our linked list and append to the end\n",
    "        last = self.head\n",
    "        \n",
    "        #Change current last to the new value, and continuously check for an empty next\n",
    "        while last.next:\n",
    "            last = last.next\n",
    "            \n",
    "        #change the current last node next value to point to thw new value\n",
    "        last.next = new_node\n",
    "        \n",
    "    def remove_node(self, r_value):\n",
    "        temp = self.head\n",
    "        \n",
    "        while temp.value != r_value:\n",
    "            prev = temp\n",
    "            temp = temp.next\n",
    "        prev.next = temp.next \n",
    "        print(temp)\n",
    "        del temp  \n",
    "        \n",
    "        \n",
    "    #traverse - move throug the linked list\n",
    "    def traverse(self):\n",
    "        temp = self.head\n",
    "        #while temp is NOT NONE --> keep on tecking through the list untill it is none\n",
    "        while temp:\n",
    "            print(temp.value)\n",
    "            temp = temp.next\n",
    "        print(\"end of list\")\n",
    "        "
   ]
  },
  {
   "cell_type": "code",
   "execution_count": 29,
   "metadata": {},
   "outputs": [
    {
     "name": "stdout",
     "output_type": "stream",
     "text": [
      "Sunday\n",
      "Monday\n",
      "Tuesday\n",
      "Wednesday\n",
      "Thursday\n",
      "Friday\n",
      "Saturday\n",
      "end of list\n"
     ]
    }
   ],
   "source": [
    "weekdays_list = LinkedList()\n",
    "weekdays_list.pushOn(\"Monday\")\n",
    "#weekdays_list.traverse()\n",
    "\n",
    "weekdays_list.append_(\"Wednesday\")\n",
    "weekdays_list.insertAfter(weekdays_list.head, \"Tuesday\")\n",
    "#weekdays_list.traverse()\n",
    "weekdays_list.append_(\"Friday\")\n",
    "#weekdays_list.traverse()\n",
    "weekdays_list.insertAfter(weekdays_list.head.next.next, \"Thursday\")\n",
    "#weekdays_list.traverse()\n",
    "weekdays_list.pushOn(\"Sunday\")\n",
    "#weekdays_list.traverse()\n",
    "weekdays_list.append_(\"Saturday\")\n",
    "weekdays_list.traverse()"
   ]
  },
  {
   "cell_type": "code",
   "execution_count": null,
   "metadata": {},
   "outputs": [],
   "source": []
  },
  {
   "cell_type": "code",
   "execution_count": null,
   "metadata": {},
   "outputs": [],
   "source": []
  },
  {
   "cell_type": "code",
   "execution_count": null,
   "metadata": {},
   "outputs": [],
   "source": []
  },
  {
   "cell_type": "code",
   "execution_count": null,
   "metadata": {},
   "outputs": [],
   "source": []
  },
  {
   "cell_type": "code",
   "execution_count": null,
   "metadata": {},
   "outputs": [],
   "source": []
  }
 ],
 "metadata": {
  "kernelspec": {
   "display_name": "Python 3 (ipykernel)",
   "language": "python",
   "name": "python3"
  },
  "language_info": {
   "codemirror_mode": {
    "name": "ipython",
    "version": 3
   },
   "file_extension": ".py",
   "mimetype": "text/x-python",
   "name": "python",
   "nbconvert_exporter": "python",
   "pygments_lexer": "ipython3",
   "version": "3.9.7"
  }
 },
 "nbformat": 4,
 "nbformat_minor": 2
}
